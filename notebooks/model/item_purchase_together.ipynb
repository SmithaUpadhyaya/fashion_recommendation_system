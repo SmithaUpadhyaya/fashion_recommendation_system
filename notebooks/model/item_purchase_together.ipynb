{
 "cells": [
  {
   "cell_type": "markdown",
   "metadata": {},
   "source": [
    "# Customers Who Bought This Frequently Buy This! #"
   ]
  },
  {
   "cell_type": "code",
   "execution_count": 1,
   "metadata": {},
   "outputs": [],
   "source": [
    "from config.config import CONFIGURATION_PATH\n",
    "from matplotlib import pyplot as plt\n",
    "import utils.images_utils as hlpimage\n",
    "import utils.read_utils as hlpread\n",
    "import utils.write_utils as hlwrite\n",
    "from os.path import exists\n",
    "#import pickle\n",
    "import cv2\n",
    "import sys\n",
    "import os\n",
    "import gc"
   ]
  },
  {
   "cell_type": "code",
   "execution_count": 2,
   "metadata": {},
   "outputs": [],
   "source": [
    "current_dir = os.path.dirname(os.path.realpath('__file__'))\n",
    "PROJECT_ROOT = os.path.abspath(os.path.join(current_dir, os.pardir))\n",
    "\n",
    "while os.path.exists(os.path.join(PROJECT_ROOT, CONFIGURATION_PATH)) == False:\n",
    "\n",
    "    PROJECT_ROOT = os.path.abspath(os.path.join(PROJECT_ROOT, os.pardir))\n",
    "\n",
    "#PROJECT_ROOT"
   ]
  },
  {
   "cell_type": "code",
   "execution_count": 3,
   "metadata": {},
   "outputs": [
    {
     "name": "stdout",
     "output_type": "stream",
     "text": [
      "Transaction records from: 2018-09-20 00:00:00 to 2020-09-22 00:00:00\n",
      "Shape of train: (27306439, 6)\n"
     ]
    }
   ],
   "source": [
    "TRANSACTION_DATA = os.path.join(PROJECT_ROOT, \n",
    "                                hlpread.read_yaml_key(os.path.join(PROJECT_ROOT, CONFIGURATION_PATH),'data_source','data_folders'),\n",
    "                                hlpread.read_yaml_key(os.path.join(PROJECT_ROOT, CONFIGURATION_PATH),'data_source','processed_data_folder'),\n",
    "                                hlpread.read_yaml_key(os.path.join(PROJECT_ROOT, CONFIGURATION_PATH),'data_source','clean_transaction_data'),\n",
    "                                )\n",
    "                                \n",
    "tran_data = hlpread.read_from_parquet(TRANSACTION_DATA)\n",
    "\n",
    "max_t_date = tran_data.t_dat.max()\n",
    "min_t_date = tran_data.t_dat.min()\n",
    "\n",
    "print(f'Transaction records from: {min_t_date} to {max_t_date}')\n",
    "print(f'Shape of train: {tran_data.shape}')"
   ]
  },
  {
   "cell_type": "markdown",
   "metadata": {},
   "source": [
    "## Generate Top 30 items that are brought together with the item by other users ##"
   ]
  },
  {
   "cell_type": "code",
   "execution_count": null,
   "metadata": {},
   "outputs": [],
   "source": [
    "#Count number of times the items where purchased\n",
    "vc = tran_data.article_id.value_counts() \n",
    "\n",
    "print(f'Lenght of purchase count: {len(vc)}')\n",
    "pairs_items = {}\n",
    "\n",
    "vc = vc.reset_index()\n",
    "vc.rename(columns = {'index': 'article_id', 'article_id': 'cnt'}, inplace = True)\n",
    "vc = vc[~vc.article_id.isin(pairs_items.keys())]\n",
    "\n",
    "for item, item_count in zip(vc.article_id, vc.cnt):\n",
    "\n",
    "    #Only consider those items which where sold more then once\n",
    "    if item_count > 1:\n",
    "\n",
    "        if item not in pairs_items:\n",
    "            \n",
    "            #Get list of user who has purchase the same item\n",
    "            USERS = tran_data.loc[tran_data.article_id == item, 'customer_id'].unique()\n",
    "\n",
    "            #Get list of items those USERS have purchased with ignoring the current item\n",
    "            vc2 = tran_data.loc[(tran_data.customer_id.isin(USERS)) & (tran_data.article_id != item), 'article_id'].value_counts()\n",
    "\n",
    "            #Get Top 30 items those user has purchase based on items value counts\n",
    "            other_items = []\n",
    "            for i in range(0, 30):\n",
    "\n",
    "                if i < len(vc2.index):\n",
    "                    other_items.append(vc2.index[i])\n",
    "\n",
    "                else: #Since if i reach more then the len meanse we do not have records i the vc2 list\n",
    "                    break\n",
    "\n",
    "            pairs_items[item] = other_items\n",
    "            #pairs[i.item()] = [vc2.index[0], vc2.index[1], vc2.index[2]]\n",
    "\n",
    "    else:\n",
    "        # Since we know that value_count return sorted array, \n",
    "        # so if any item_count == 1 then all the other items that will come next will be equal to 1\n",
    "        # So we shall break from the loop\n",
    "        break"
   ]
  },
  {
   "cell_type": "code",
   "execution_count": 6,
   "metadata": {},
   "outputs": [],
   "source": [
    "ITEMS_PAIRED_TOGETHER = os.path.join(PROJECT_ROOT, \n",
    "                                     hlpread.read_yaml_key(os.path.join(PROJECT_ROOT, CONFIGURATION_PATH),'model', 'output_folder'), \n",
    "                                     hlpread.read_yaml_key(CONFIGURATION_PATH,'candidate-item-purchase-together', 'item-purchase-together-folder'),\n",
    "                                     hlpread.read_yaml_key(CONFIGURATION_PATH,'candidate-item-purchase-together', 'item-purchase-together-output')\n",
    "                                     )\n",
    "\n",
    "#with open(ITEMS_PAIRED_TOGETHER, 'wb') as fopen:\n",
    "#    pickle.dump(pairs_items, fopen)\n",
    "\n",
    "hlwrite.save_object(ITEMS_PAIRED_TOGETHER, pairs_items)"
   ]
  },
  {
   "cell_type": "code",
   "execution_count": 6,
   "metadata": {},
   "outputs": [
    {
     "data": {
      "text/plain": [
       "871"
      ]
     },
     "execution_count": 6,
     "metadata": {},
     "output_type": "execute_result"
    }
   ],
   "source": [
    "del tran_data\n",
    "gc.collect()"
   ]
  },
  {
   "cell_type": "markdown",
   "metadata": {},
   "source": [
    "# Display Item Purchased Together #\n",
    "\n",
    "When customers bought the item in the 1st column below, then those customers also bought the items in the 2nd, 3rd, and 4th column too!\n"
   ]
  },
  {
   "cell_type": "code",
   "execution_count": null,
   "metadata": {},
   "outputs": [],
   "source": [
    "\n",
    "#Check for top 10 items pairs \n",
    "top_pair_item = list(pairs_items.keys())[:10]\n",
    "\n",
    "for i, k in enumerate( top_pair_item ):\n",
    "    \n",
    "    v = pairs_items[k]\n",
    "    name1 = hlpimage.get_image_path(k)\n",
    "    name2 = hlpimage.get_image_path(v[0])\n",
    "    name3 = hlpimage.get_image_path(v[1])\n",
    "    name4 = hlpimage.get_image_path(v[2])\n",
    "    \n",
    "    if exists(name1) & exists(name2) & exists(name3) & exists(name4):\n",
    "        plt.figure(figsize=(20,5))\n",
    "        img1 = cv2.imread(name1)[:,:,::-1]\n",
    "        img2 = cv2.imread(name2)[:,:,::-1]\n",
    "        img3 = cv2.imread(name3)[:,:,::-1]\n",
    "        img4 = cv2.imread(name4)[:,:,::-1]\n",
    "        \n",
    "        plt.subplot(1,4,1)\n",
    "        plt.title('When customers buy this',size=18)\n",
    "        plt.imshow(img1)\n",
    "        plt.subplot(1,4,2)\n",
    "        plt.title('They buy this',size=18)\n",
    "        plt.imshow(img2)\n",
    "        plt.subplot(1,4,3)\n",
    "        plt.title('They buy this',size=18)\n",
    "        plt.imshow(img3)\n",
    "        plt.subplot(1,4,4)\n",
    "        plt.title('They buy this',size=18)\n",
    "        plt.imshow(img4)\n",
    "        plt.show()"
   ]
  }
 ],
 "metadata": {
  "interpreter": {
   "hash": "82a46bf17f63c04bc66933ac57ad6197fa16af7541d94cf9ccb72f43e622cfc8"
  },
  "kernelspec": {
   "display_name": "Python 3.7.9 64-bit",
   "language": "python",
   "name": "python3"
  },
  "language_info": {
   "codemirror_mode": {
    "name": "ipython",
    "version": 3
   },
   "file_extension": ".py",
   "mimetype": "text/x-python",
   "name": "python",
   "nbconvert_exporter": "python",
   "pygments_lexer": "ipython3",
   "version": "3.9.8"
  },
  "orig_nbformat": 4
 },
 "nbformat": 4,
 "nbformat_minor": 2
}
